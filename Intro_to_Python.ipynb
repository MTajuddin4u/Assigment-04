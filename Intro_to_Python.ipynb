{
  "nbformat": 4,
  "nbformat_minor": 0,
  "metadata": {
    "colab": {
      "provenance": [],
      "authorship_tag": "ABX9TyPD5Ey/iRSLEQY865YGmDLw",
      "include_colab_link": true
    },
    "kernelspec": {
      "name": "python3",
      "display_name": "Python 3"
    },
    "language_info": {
      "name": "python"
    }
  },
  "cells": [
    {
      "cell_type": "markdown",
      "metadata": {
        "id": "view-in-github",
        "colab_type": "text"
      },
      "source": [
        "<a href=\"https://colab.research.google.com/github/MTajuddin4u/Assigment-04/blob/main/Intro_to_Python.ipynb\" target=\"_parent\"><img src=\"https://colab.research.google.com/assets/colab-badge.svg\" alt=\"Open In Colab\"/></a>"
      ]
    },
    {
      "cell_type": "code",
      "source": [
        "# First, we need to define the gravity constants for each planet\n",
        "MERCURY_GRAVITY = 0.38\n",
        "VENUS_GRAVITY = 0.91\n",
        "EARTH_GRAVITY = 1.00  # Reference gravity\n",
        "MARS_GRAVITY = 0.38\n",
        "JUPITER_GRAVITY = 2.34\n",
        "SATURN_GRAVITY = 1.06\n",
        "URANUS_GRAVITY = 0.92\n",
        "NEPTUNE_GRAVITY = 1.19\n",
        "\n",
        "# Get user input for Earth weight and planet\n",
        "earth_weight = float(input(\"Enter your weight on Earth (kg): \"))\n",
        "planet = input(\"Enter a planet (Mercury, Venus, Mars, Jupiter, Saturn, Uranus, Neptune): \").capitalize()\n",
        "\n",
        "# Determine the gravitational constant for the selected planet\n",
        "if planet == \"Mercury\":\n",
        "    gravity_constant = MERCURY_GRAVITY\n",
        "elif planet == \"Venus\":\n",
        "    gravity_constant = VENUS_GRAVITY\n",
        "elif planet == \"Mars\":\n",
        "    gravity_constant = MARS_GRAVITY\n",
        "elif planet == \"Jupiter\":\n",
        "    gravity_constant = JUPITER_GRAVITY\n",
        "elif planet == \"Saturn\":\n",
        "    gravity_constant = SATURN_GRAVITY\n",
        "elif planet == \"Uranus\":\n",
        "    gravity_constant = URANUS_GRAVITY\n",
        "elif planet == \"Neptune\":\n",
        "    gravity_constant = NEPTUNE_GRAVITY\n",
        "else:\n",
        "    print(\"Invalid planet entered. Using Earth gravity as default.\")\n",
        "    gravity_constant = EARTH_GRAVITY\n",
        "\n",
        "# Calculate the equivalent weight on the selected planet\n",
        "planetary_weight = earth_weight * gravity_constant\n",
        "rounded_planetary_weight = round(planetary_weight, 2)\n",
        "\n",
        "# Print the result\n",
        "print(f\"The equivalent weight on {planet}: {rounded_planetary_weight} kg\")"
      ],
      "metadata": {
        "colab": {
          "base_uri": "https://localhost:8080/"
        },
        "id": "s4K3fKsoO4zk",
        "outputId": "a93dbcf0-41ad-4c27-e12d-146aef1780cd"
      },
      "execution_count": 2,
      "outputs": [
        {
          "output_type": "stream",
          "name": "stdout",
          "text": [
            "Enter your weight on Earth (kg): 1\n",
            "Enter a planet (Mercury, Venus, Mars, Jupiter, Saturn, Uranus, Neptune): mercury\n",
            "The equivalent weight on Mercury: 0.38 kg\n"
          ]
        }
      ]
    }
  ]
}