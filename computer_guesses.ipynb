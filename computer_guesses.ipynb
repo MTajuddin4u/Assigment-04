{
  "nbformat": 4,
  "nbformat_minor": 0,
  "metadata": {
    "colab": {
      "provenance": [],
      "authorship_tag": "ABX9TyOWvDnRjloaP3vYaLjteZdA",
      "include_colab_link": true
    },
    "kernelspec": {
      "name": "python3",
      "display_name": "Python 3"
    },
    "language_info": {
      "name": "python"
    }
  },
  "cells": [
    {
      "cell_type": "markdown",
      "metadata": {
        "id": "view-in-github",
        "colab_type": "text"
      },
      "source": [
        "<a href=\"https://colab.research.google.com/github/MTajuddin4u/Assigment-04/blob/main/computer_guesses.ipynb\" target=\"_parent\"><img src=\"https://colab.research.google.com/assets/colab-badge.svg\" alt=\"Open In Colab\"/></a>"
      ]
    },
    {
      "cell_type": "code",
      "execution_count": null,
      "metadata": {
        "id": "7uoABWhti4-7"
      },
      "outputs": [],
      "source": [
        "import random\n",
        "\n",
        "def computer_guesses():\n",
        "    print(\"Welcome to Guess the Number (User Version)!\")\n",
        "    print(\"Think of a number between 1 and 100, and I'll try to guess it.\")\n",
        "    input(\"Press Enter when you're ready...\")\n",
        "\n",
        "    low = 1\n",
        "    high = 100\n",
        "    attempts = 0\n",
        "    feedback = \"\"\n",
        "\n",
        "    while feedback != \"c\":\n",
        "        if low != high:\n",
        "            guess = random.randint(low, high)\n",
        "        else:\n",
        "            guess = low  # or high, since low == high\n",
        "\n",
        "        attempts += 1\n",
        "\n",
        "        while True:\n",
        "            feedback = input(f\"Is {guess} too high (H), too low (L), or correct (C)? \").lower()\n",
        "            if feedback in [\"h\", \"l\", \"c\"]:\n",
        "                break\n",
        "            print(\"Please enter H, L, or C.\")\n",
        "\n",
        "        if feedback == \"h\":\n",
        "            high = guess - 1\n",
        "        elif feedback == \"l\":\n",
        "            low = guess + 1\n",
        "\n",
        "    print(f\"Yay! I guessed your number in {attempts} attempts!\")\n",
        "\n",
        "if __name__ == \"__main__\":\n",
        "    computer_guesses()"
      ]
    }
  ]
}