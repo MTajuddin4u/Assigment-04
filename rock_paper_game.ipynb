{
  "nbformat": 4,
  "nbformat_minor": 0,
  "metadata": {
    "colab": {
      "provenance": [],
      "authorship_tag": "ABX9TyMmi3BUDtU72wS3J9G+WNgj",
      "include_colab_link": true
    },
    "kernelspec": {
      "name": "python3",
      "display_name": "Python 3"
    },
    "language_info": {
      "name": "python"
    }
  },
  "cells": [
    {
      "cell_type": "markdown",
      "metadata": {
        "id": "view-in-github",
        "colab_type": "text"
      },
      "source": [
        "<a href=\"https://colab.research.google.com/github/MTajuddin4u/Assigment-04/blob/main/rock_paper_game.ipynb\" target=\"_parent\"><img src=\"https://colab.research.google.com/assets/colab-badge.svg\" alt=\"Open In Colab\"/></a>"
      ]
    },
    {
      "cell_type": "code",
      "execution_count": null,
      "metadata": {
        "id": "R5rh9hTukaiy"
      },
      "outputs": [],
      "source": [
        "import random\n",
        "\n",
        "def play_rps():\n",
        "    choices = ['rock', 'paper', 'scissors']\n",
        "    score = {'player': 0, 'computer': 0, 'tie': 0}\n",
        "\n",
        "    print(\"Welcome to Rock, Paper, Scissors!\")\n",
        "    print(\"Type 'quit' to end the game.\\n\")\n",
        "\n",
        "    while True:\n",
        "        player_choice = input(\"Choose rock, paper, or scissors: \").lower()\n",
        "\n",
        "        if player_choice == 'quit':\n",
        "            break\n",
        "\n",
        "        if player_choice not in choices:\n",
        "            print(\"Invalid choice. Please try again.\")\n",
        "            continue\n",
        "\n",
        "        computer_choice = random.choice(choices)\n",
        "        print(f\"\\nYou chose: {player_choice}\")\n",
        "        print(f\"Computer chose: {computer_choice}\")\n",
        "\n",
        "        if player_choice == computer_choice:\n",
        "            print(\"It's a tie!\")\n",
        "            score['tie'] += 1\n",
        "        elif (player_choice == 'rock' and computer_choice == 'scissors') or \\\n",
        "             (player_choice == 'paper' and computer_choice == 'rock') or \\\n",
        "             (player_choice == 'scissors' and computer_choice == 'paper'):\n",
        "            print(\"You win!\")\n",
        "            score['player'] += 1\n",
        "        else:\n",
        "            print(\"Computer wins!\")\n",
        "            score['computer'] += 1\n",
        "\n",
        "        print(f\"\\nScore - You: {score['player']} | Computer: {score['computer']} | Ties: {score['tie']}\\n\")\n",
        "\n",
        "    print(\"\\nFinal Score:\")\n",
        "    print(f\"You: {score['player']} | Computer: {score['computer']} | Ties: {score['tie']}\")\n",
        "    print(\"Thanks for playing!\")\n",
        "\n",
        "if __name__ == \"__main__\":\n",
        "    play_rps()"
      ]
    }
  ]
}