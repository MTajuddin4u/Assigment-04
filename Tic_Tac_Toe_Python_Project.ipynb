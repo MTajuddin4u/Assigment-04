{
  "nbformat": 4,
  "nbformat_minor": 0,
  "metadata": {
    "colab": {
      "provenance": [],
      "authorship_tag": "ABX9TyPu5/P8Sk6kg9zgeCrcw2V0",
      "include_colab_link": true
    },
    "kernelspec": {
      "name": "python3",
      "display_name": "Python 3"
    },
    "language_info": {
      "name": "python"
    }
  },
  "cells": [
    {
      "cell_type": "markdown",
      "metadata": {
        "id": "view-in-github",
        "colab_type": "text"
      },
      "source": [
        "<a href=\"https://colab.research.google.com/github/MTajuddin4u/Assigment-04/blob/main/Tic_Tac_Toe_Python_Project.ipynb\" target=\"_parent\"><img src=\"https://colab.research.google.com/assets/colab-badge.svg\" alt=\"Open In Colab\"/></a>"
      ]
    },
    {
      "cell_type": "code",
      "source": [
        "import numpy as np\n",
        "from IPython.display import clear_output\n",
        "\n",
        "class TicTacToe:\n",
        "    def __init__(self):\n",
        "        self.board = np.array([' '] * 9).reshape(3, 3)\n",
        "        self.current_player = 'X'\n",
        "        self.game_over = False\n",
        "\n",
        "    def print_board(self):\n",
        "        clear_output(wait=True)\n",
        "        print(\"\\nTIC-TAC-TOE\\n\")\n",
        "        for i, row in enumerate(self.board):\n",
        "            print(\" \" + \" | \".join(row) + \" \")\n",
        "            if i < 2:\n",
        "                print(\"-----------\")\n",
        "\n",
        "    def make_move(self, position):\n",
        "        row, col = divmod(position - 1, 3)\n",
        "        if self.board[row][col] == ' ':\n",
        "            self.board[row][col] = self.current_player\n",
        "            if self.check_winner():\n",
        "                self.print_board()\n",
        "                print(f\"\\nPlayer {self.current_player} wins! 🎉\")\n",
        "                self.game_over = True\n",
        "            elif ' ' not in self.board:\n",
        "                self.print_board()\n",
        "                print(\"\\nIt's a tie! 🤝\")\n",
        "                self.game_over = True\n",
        "            else:\n",
        "                self.current_player = 'O' if self.current_player == 'X' else 'X'\n",
        "            return True\n",
        "        return False\n",
        "\n",
        "    def check_winner(self):\n",
        "        # Check rows and columns\n",
        "        for i in range(3):\n",
        "            if all(self.board[i] == self.current_player) or all(self.board[:, i] == self.current_player):\n",
        "                return True\n",
        "        # Check diagonals\n",
        "        if all(np.diag(self.board) == self.current_player) or all(np.diag(np.fliplr(self.board)) == self.current_player):\n",
        "            return True\n",
        "        return False\n",
        "\n",
        "def play_game():\n",
        "    game = TicTacToe()\n",
        "\n",
        "    while not game.game_over:\n",
        "        game.print_board()\n",
        "        try:\n",
        "            position = int(input(f\"\\nPlayer {game.current_player}, enter position (1-9): \"))\n",
        "            if 1 <= position <= 9:\n",
        "                if not game.make_move(position):\n",
        "                    print(\"That position is already taken! Try again.\")\n",
        "            else:\n",
        "                print(\"Please enter a number between 1 and 9.\")\n",
        "        except ValueError:\n",
        "            print(\"Please enter a valid number!\")\n",
        "\n",
        "    play_again = input(\"\\nDo you want to play again? (y/n): \").lower()\n",
        "    if play_again == 'y':\n",
        "        play_game()\n",
        "    else:\n",
        "        print(\"\\nThanks for playing! 👋\")\n",
        "\n",
        "# Start the game\n",
        "print(\"Welcome to Tic-Tac-Toe in Google Colab!\")\n",
        "print(\"Positions are numbered from 1 to 9 left to right, top to bottom\")\n",
        "play_game()"
      ],
      "metadata": {
        "colab": {
          "base_uri": "https://localhost:8080/"
        },
        "id": "L-BXPJZoyxMB",
        "outputId": "ee72f42c-6970-4687-9175-b3e1bbe0811c"
      },
      "execution_count": null,
      "outputs": [
        {
          "output_type": "stream",
          "name": "stdout",
          "text": [
            "\n",
            "TIC-TAC-TOE\n",
            "\n",
            "   | X |   \n",
            "-----------\n",
            " O |   | X \n",
            "-----------\n",
            "   | O |   \n"
          ]
        }
      ]
    }
  ]
}