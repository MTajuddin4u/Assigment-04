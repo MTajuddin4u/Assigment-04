{
  "nbformat": 4,
  "nbformat_minor": 0,
  "metadata": {
    "colab": {
      "provenance": [],
      "authorship_tag": "ABX9TyNH0MNBnpMobmXadf+ehDRW",
      "include_colab_link": true
    },
    "kernelspec": {
      "name": "python3",
      "display_name": "Python 3"
    },
    "language_info": {
      "name": "python"
    }
  },
  "cells": [
    {
      "cell_type": "markdown",
      "metadata": {
        "id": "view-in-github",
        "colab_type": "text"
      },
      "source": [
        "<a href=\"https://colab.research.google.com/github/MTajuddin4u/Assigment-04/blob/main/Streamlit_Crash_Course_Build_Data_Driven_Python_Web_Apps_in_Minutes.ipynb\" target=\"_parent\"><img src=\"https://colab.research.google.com/assets/colab-badge.svg\" alt=\"Open In Colab\"/></a>"
      ]
    },
    {
      "cell_type": "code",
      "source": [
        "%%writefile app.py\n",
        "import streamlit as st\n",
        "import pandas as pd\n",
        "import numpy as np\n",
        "import matplotlib.pyplot as plt\n",
        "import seaborn as sns\n",
        "\n",
        "\n",
        "st.title(\"📊 Data Visualization Dashboard\")\n",
        "\n",
        "st.sidebar.header(\"Controls\")\n",
        "chart_type = st.sidebar.selectbox(\n",
        "    \"Select Chart Type\",\n",
        "    [\"Line Chart\", \"Bar Chart\", \"Scatter Plot\"]\n",
        ")\n",
        "\n",
        "\n",
        "np.random.seed(42)\n",
        "data = pd.DataFrame({\n",
        "    'x': range(100),\n",
        "    'y': np.random.randn(100).cumsum()\n",
        "})\n",
        "\n",
        "st.subheader(f\"{chart_type} Example\")\n",
        "\n",
        "if chart_type == \"Line Chart\":\n",
        "    st.line_chart(data.set_index('x'))\n",
        "elif chart_type == \"Bar Chart\":\n",
        "    st.bar_chart(data.set_index('x'))\n",
        "else:\n",
        "    fig, ax = plt.subplots()\n",
        "    sns.scatterplot(data=data, x='x', y='y', ax=ax)\n",
        "    st.pyplot(fig)\n",
        "\n",
        "if st.checkbox(\"Show raw data\"):\n",
        "    st.write(data)"
      ],
      "metadata": {
        "colab": {
          "base_uri": "https://localhost:8080/"
        },
        "id": "83iwEgJ29vVA",
        "outputId": "31fb05ba-e6c1-45bb-c7f2-4e0686648e52"
      },
      "execution_count": 4,
      "outputs": [
        {
          "output_type": "stream",
          "name": "stdout",
          "text": [
            "Writing app.py\n"
          ]
        }
      ]
    }
  ]
}