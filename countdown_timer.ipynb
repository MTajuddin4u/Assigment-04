{
  "nbformat": 4,
  "nbformat_minor": 0,
  "metadata": {
    "colab": {
      "provenance": [],
      "authorship_tag": "ABX9TyM2L1DlrBjUvIWWq0gBLy7y",
      "include_colab_link": true
    },
    "kernelspec": {
      "name": "python3",
      "display_name": "Python 3"
    },
    "language_info": {
      "name": "python"
    }
  },
  "cells": [
    {
      "cell_type": "markdown",
      "metadata": {
        "id": "view-in-github",
        "colab_type": "text"
      },
      "source": [
        "<a href=\"https://colab.research.google.com/github/MTajuddin4u/Assigment-04/blob/main/countdown_timer.ipynb\" target=\"_parent\"><img src=\"https://colab.research.google.com/assets/colab-badge.svg\" alt=\"Open In Colab\"/></a>"
      ]
    },
    {
      "cell_type": "code",
      "execution_count": null,
      "metadata": {
        "id": "4pHdkN_kl9-U"
      },
      "outputs": [],
      "source": [
        "import streamlit as st\n",
        "import time\n",
        "from datetime import datetime, timedelta\n",
        "\n",
        "def countdown_timer():\n",
        "    st.title(\"⏳ Countdown Timer\")\n",
        "\n",
        "    # Sidebar with instructions\n",
        "    with st.sidebar:\n",
        "        st.header(\"Instructions\")\n",
        "        st.write(\"1. Set your countdown time\")\n",
        "        st.write(\"2. Click 'Start Countdown'\")\n",
        "        st.write(\"3. The timer will alert when finished\")\n",
        "        st.write(\"🔔 Audio alert plays when time is up!\")\n",
        "\n",
        "    # Timer input section\n",
        "    col1, col2, col3 = st.columns(3)\n",
        "    with col1:\n",
        "        hours = st.number_input(\"Hours\", min_value=0, max_value=24, value=0)\n",
        "    with col2:\n",
        "        minutes = st.number_input(\"Minutes\", min_value=0, max_value=59, value=0)\n",
        "    with col3:\n",
        "        seconds = st.number_input(\"Seconds\", min_value=0, max_value=59, value=10)\n",
        "\n",
        "    total_seconds = hours * 3600 + minutes * 60 + seconds\n",
        "\n",
        "    # Display area for the countdown\n",
        "    countdown_placeholder = st.empty()\n",
        "    message_placeholder = st.empty()\n",
        "\n",
        "    # Audio alert (hidden audio element)\n",
        "    audio_placeholder = st.empty()\n",
        "\n",
        "    if st.button(\"Start Countdown\"):\n",
        "        if total_seconds <= 0:\n",
        "            st.warning(\"Please enter a valid time greater than zero.\")\n",
        "            return\n",
        "\n",
        "        end_time = datetime.now() + timedelta(seconds=total_seconds)\n",
        "\n",
        "        while datetime.now() < end_time:\n",
        "            remaining = end_time - datetime.now()\n",
        "            remaining_seconds = max(0, int(remaining.total_seconds()))\n",
        "\n",
        "            # Format time as HH:MM:SS\n",
        "            hours_remaining = remaining_seconds // 3600\n",
        "            minutes_remaining = (remaining_seconds % 3600) // 60\n",
        "            seconds_remaining = remaining_seconds % 60\n",
        "\n",
        "            time_str = f\"{hours_remaining:02d}:{minutes_remaining:02d}:{seconds_remaining:02d}\"\n",
        "\n",
        "            # Update the display\n",
        "            countdown_placeholder.header(f\"⏱️ {time_str}\")\n",
        "\n",
        "            # Create a progress bar\n",
        "            progress = 1 - (remaining_seconds / total_seconds)\n",
        "            st.progress(progress)\n",
        "\n",
        "            time.sleep(1)\n",
        "\n",
        "        # When countdown finishes\n",
        "        countdown_placeholder.header(\"⏰ Time's up!\")\n",
        "        message_placeholder.success(\"Countdown completed!\")\n",
        "\n",
        "        # Play alert sound\n",
        "        audio_placeholder.markdown(\"\"\"\n",
        "        <audio autoplay>\n",
        "        <source src=\"https://www.soundjay.com/misc/sounds/bell-ringing-05.mp3\" type=\"audio/mpeg\">\n",
        "        </audio>\n",
        "        \"\"\", unsafe_allow_html=True)\n",
        "\n",
        "if __name__ == \"__main__\":\n",
        "    countdown_timer()"
      ]
    }
  ]
}